{
 "cells": [
  {
   "cell_type": "code",
   "execution_count": 22,
   "id": "3308ff3e",
   "metadata": {},
   "outputs": [],
   "source": [
    "from splinter import Browser\n",
    "from bs4 import BeautifulSoup\n",
    "from webdriver_manager.chrome import ChromeDriverManager\n",
    "import pandas as pd"
   ]
  },
  {
   "cell_type": "markdown",
   "id": "1de01934",
   "metadata": {},
   "source": [
    "### Mars Hemispheres"
   ]
  },
  {
   "cell_type": "code",
   "execution_count": 23,
   "id": "d1ee41ca",
   "metadata": {},
   "outputs": [],
   "source": [
    "# URL to be scraped\n",
    "mars_news_url = 'https://redplanetscience.com'\n",
    "space_img_url = \"https://spaceimages-mars.com\"\n",
    "mars_facts_url = \"https://galaxyfacts-mars.com\"\n",
    "hemisph_url = \"https://marshemispheres.com\""
   ]
  },
  {
   "cell_type": "code",
   "execution_count": 24,
   "id": "de7a6d16",
   "metadata": {},
   "outputs": [
    {
     "name": "stderr",
     "output_type": "stream",
     "text": [
      "\n",
      "\n",
      "====== WebDriver manager ======\n",
      "Current google-chrome version is 93.0.4577\n",
      "Get LATEST driver version for 93.0.4577\n",
      "Driver [C:\\Users\\Priya\\.wdm\\drivers\\chromedriver\\win32\\93.0.4577.63\\chromedriver.exe] found in cache\n"
     ]
    }
   ],
   "source": [
    "# Setup Splinter\n",
    "executable_path = {'executable_path': ChromeDriverManager().install()}\n",
    "browser = Browser('chrome', **executable_path, headless=False)"
   ]
  },
  {
   "cell_type": "code",
   "execution_count": 25,
   "id": "0a3957b4",
   "metadata": {},
   "outputs": [],
   "source": [
    "# Go to the news url\n",
    "browser.visit(mars_news_url)\n",
    "\n",
    "# Create BeautifulSoup object; parse with 'html.parser'\n",
    "html = browser.html\n",
    "soup = BeautifulSoup(html, 'html.parser')"
   ]
  },
  {
   "cell_type": "code",
   "execution_count": 26,
   "id": "c70ef0f5",
   "metadata": {},
   "outputs": [
    {
     "data": {
      "text/plain": [
       "'Mars 2020 Stands on Its Own Six Wheels'"
      ]
     },
     "execution_count": 26,
     "metadata": {},
     "output_type": "execute_result"
    }
   ],
   "source": [
    "# Find the news section\n",
    "latest_news = soup.find('div', id='news')\n",
    "\n",
    "# Get the latest news title\n",
    "news_text = latest_news.find('div', class_='content_title').text\n",
    "news_text"
   ]
  },
  {
   "cell_type": "code",
   "execution_count": 27,
   "id": "c9312dcc",
   "metadata": {},
   "outputs": [
    {
     "data": {
      "text/plain": [
       "\"In time-lapse video, taken at JPL, captures the first time NASA's Mars 2020 rover carries its full weight on its legs and wheels.\""
      ]
     },
     "execution_count": 27,
     "metadata": {},
     "output_type": "execute_result"
    }
   ],
   "source": [
    "# Get the latest news paragraph\n",
    "news_details = latest_news.find('div', class_='article_teaser_body').text\n",
    "news_details"
   ]
  },
  {
   "cell_type": "code",
   "execution_count": 28,
   "id": "81cecfa0",
   "metadata": {},
   "outputs": [
    {
     "data": {
      "text/plain": [
       "'https://spaceimages-mars.com/image/featured/mars1.jpg'"
      ]
     },
     "execution_count": 28,
     "metadata": {},
     "output_type": "execute_result"
    }
   ],
   "source": [
    "#Featured Space Image site \n",
    "browser.visit(space_img_url)\n",
    "html = browser.html\n",
    "soup = BeautifulSoup(html, 'html.parser')\n",
    "\n",
    "local_image_url = soup.find('img', class_=\"headerimage fade-in\")['src']\n",
    "featured_image_url = space_img_url+'/'+local_image_url\n",
    "featured_image_url"
   ]
  },
  {
   "cell_type": "code",
   "execution_count": 29,
   "id": "a36eeba8",
   "metadata": {},
   "outputs": [],
   "source": [
    "table = pd.read_html(mars_facts_url)\n",
    "newdf = table[0]\n",
    "newdf.columns=['Mars - Earth Comparison','Mars', 'Earth']\n",
    "newdf.set_index('Mars - Earth Comparison', inplace=True)\n",
    "df = newdf.iloc[1: , :]\n",
    "html_newdf = df.to_html()\n",
    "html_newdf = html_newdf.replace('\\n', ' ')"
   ]
  },
  {
   "cell_type": "code",
   "execution_count": 30,
   "id": "b458298d",
   "metadata": {},
   "outputs": [
    {
     "data": {
      "text/plain": [
       "'<table border=\"1\" class=\"dataframe\">   <thead>     <tr style=\"text-align: right;\">       <th></th>       <th>Mars</th>       <th>Earth</th>     </tr>     <tr>       <th>Mars - Earth Comparison</th>       <th></th>       <th></th>     </tr>   </thead>   <tbody>     <tr>       <th>Diameter:</th>       <td>6,779 km</td>       <td>12,742 km</td>     </tr>     <tr>       <th>Mass:</th>       <td>6.39 × 10^23 kg</td>       <td>5.97 × 10^24 kg</td>     </tr>     <tr>       <th>Moons:</th>       <td>2</td>       <td>1</td>     </tr>     <tr>       <th>Distance from Sun:</th>       <td>227,943,824 km</td>       <td>149,598,262 km</td>     </tr>     <tr>       <th>Length of Year:</th>       <td>687 Earth days</td>       <td>365.24 days</td>     </tr>     <tr>       <th>Temperature:</th>       <td>-87 to -5 °C</td>       <td>-88 to 58°C</td>     </tr>   </tbody> </table>'"
      ]
     },
     "execution_count": 30,
     "metadata": {},
     "output_type": "execute_result"
    }
   ],
   "source": [
    "html_newdf"
   ]
  },
  {
   "cell_type": "code",
   "execution_count": 31,
   "id": "d1ccdae2",
   "metadata": {},
   "outputs": [
    {
     "data": {
      "text/plain": [
       "'<table border=\"1\" class=\"dataframe\">\\n  <thead>\\n    <tr style=\"text-align: right;\">\\n      <th></th>\\n      <th>Mars</th>\\n      <th>Earth</th>\\n    </tr>\\n    <tr>\\n      <th>Mars - Earth Comparison</th>\\n      <th></th>\\n      <th></th>\\n    </tr>\\n  </thead>\\n  <tbody>\\n    <tr>\\n      <th>Diameter:</th>\\n      <td>6,779 km</td>\\n      <td>12,742 km</td>\\n    </tr>\\n    <tr>\\n      <th>Mass:</th>\\n      <td>6.39 × 10^23 kg</td>\\n      <td>5.97 × 10^24 kg</td>\\n    </tr>\\n    <tr>\\n      <th>Moons:</th>\\n      <td>2</td>\\n      <td>1</td>\\n    </tr>\\n    <tr>\\n      <th>Distance from Sun:</th>\\n      <td>227,943,824 km</td>\\n      <td>149,598,262 km</td>\\n    </tr>\\n    <tr>\\n      <th>Length of Year:</th>\\n      <td>687 Earth days</td>\\n      <td>365.24 days</td>\\n    </tr>\\n    <tr>\\n      <th>Temperature:</th>\\n      <td>-87 to -5 °C</td>\\n      <td>-88 to 58°C</td>\\n    </tr>\\n  </tbody>\\n</table>'"
      ]
     },
     "execution_count": 31,
     "metadata": {},
     "output_type": "execute_result"
    }
   ],
   "source": [
    "# Convert the data to a HTML table string\n",
    "html_table = df.to_html()\n",
    "html_table.replace('\\n', '')\n",
    "html_table"
   ]
  },
  {
   "cell_type": "code",
   "execution_count": 32,
   "id": "5ff29f6b",
   "metadata": {},
   "outputs": [],
   "source": [
    "    url = 'https://marshemispheres.com/'\n",
    "    browser.visit(url)\n",
    "    \n",
    "    xpath = '//*[@id=\"product-section\"]/div[2]/div[1]/div/a/h3'\n",
    "    xpath2 = '//*[@id=\"product-section\"]/div[2]/div[2]/div/a/h3'\n",
    "    xpath3 = '//*[@id=\"product-section\"]/div[2]/div[3]/div/a/h3'\n",
    "    xpath4 = '//*[@id=\"product-section\"]/div[2]/div[4]/div/a/h3'\n",
    "    info_list = []\n",
    "    xpath_list = [xpath, xpath2, xpath3, xpath4]\n",
    "    \n",
    "    for x in xpath_list:\n",
    "            results = browser.find_by_xpath(x)\n",
    "            click = results[0]\n",
    "            click.click()\n",
    "\n",
    "            html = browser.html\n",
    "            soup = BeautifulSoup(html, \"html.parser\")\n",
    "\n",
    "            hemi_title = soup.find('h2', class_='title').text\n",
    "            full_image = soup.find('img', class_='wide-image')['src']\n",
    "            full_image_url = url + full_image\n",
    "\n",
    "            data = {\n",
    "                \"title\": hemi_title,\n",
    "                \"img_url\": full_image_url\n",
    "            }\n",
    "            info_list.append(data)\n",
    "            browser.back()\n",
    "    browser.quit()"
   ]
  },
  {
   "cell_type": "code",
   "execution_count": null,
   "id": "bd81724d",
   "metadata": {},
   "outputs": [],
   "source": []
  }
 ],
 "metadata": {
  "kernelspec": {
   "display_name": "Python 3",
   "language": "python",
   "name": "python3"
  },
  "language_info": {
   "codemirror_mode": {
    "name": "ipython",
    "version": 3
   },
   "file_extension": ".py",
   "mimetype": "text/x-python",
   "name": "python",
   "nbconvert_exporter": "python",
   "pygments_lexer": "ipython3",
   "version": "3.8.8"
  }
 },
 "nbformat": 4,
 "nbformat_minor": 5
}
